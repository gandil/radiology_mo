{
 "cells": [
  {
   "cell_type": "code",
   "execution_count": 2,
   "metadata": {},
   "outputs": [],
   "source": [
    "import re\n",
    "import os\n",
    "import datetime\n",
    "import numpy as np\n",
    "import pandas as pd\n",
    "import matplotlib.pyplot as plt\n",
    "from sklearn.svm import SVC\n",
    "from sklearn.preprocessing import StandardScaler, MinMaxScaler\n",
    "from sklearn.decomposition import KernelPCA, PCA, TruncatedSVD\n",
    "from sklearn.manifold import TSNE\n",
    "from sklearn.model_selection import train_test_split\n",
    "from sklearn.metrics import accuracy_score\n",
    "from imblearn.over_sampling import SMOTE, RandomOverSampler, ADASYN, SVMSMOTE\n",
    "\n",
    "from imblearn.ensemble import BalancedBaggingClassifier\n",
    "from sklearn.model_selection import KFold, RandomizedSearchCV,GridSearchCV\n",
    "from sklearn.metrics import accuracy_score, f1_score, recall_score, precision_score, make_scorer, roc_auc_score\n",
    "from sklearn.metrics import confusion_matrix\n",
    "from sklearn.metrics import ConfusionMatrixDisplay\n"
   ]
  },
  {
   "cell_type": "code",
   "execution_count": 7,
   "metadata": {},
   "outputs": [],
   "source": [
    "# Declare variables\n",
    "base_path_normal_train = 'Saved_Embeddings/Normal/'\n",
    "base_path_abnormal_train = 'Saved_Embeddings/Abnormal/'\n",
    "base_path_normal_test = 'Saved_Embeddings/Normal_test/'\n",
    "base_path_abnormal_test = 'Saved_Embeddings/Abnormal_test/'\n",
    "use_dimensionality_reduction = True\n",
    "use_scaler = True\n",
    "use_age_gender_data = False\n",
    "use_oversampling = True"
   ]
  },
  {
   "cell_type": "code",
   "execution_count": 8,
   "metadata": {},
   "outputs": [],
   "source": [
    "#Data Loading and scaling\n",
    "\n",
    "def load_all_image_embeddings(base_path_normal, base_path_abnormal, age_gender_data):\n",
    "    embeddings = []\n",
    "    labels = []\n",
    "    age_list = []\n",
    "    gender_list = []\n",
    "    normal_age_gender_data = age_gender_data[0]\n",
    "    abnormal_age_gender_data = age_gender_data[1]\n",
    "    normal_id_list = list(normal_age_gender_data['ID'])\n",
    "    abnormal_id_list = list(abnormal_age_gender_data['ID'])\n",
    "    for k in os.listdir(base_path_normal):\n",
    "        age, gender = None, None\n",
    "        id_cleaned = int(''.join(filter(str.isdigit, k)))\n",
    "        if id_cleaned in normal_id_list:\n",
    "            _, gender, age = list(normal_age_gender_data.loc[normal_age_gender_data['ID'] == id_cleaned].values.ravel())\n",
    "        embeddings.append(np.load(base_path_normal + k))\n",
    "        age_list.append(age)\n",
    "        gender_list.append(gender)\n",
    "        labels.append(0)\n",
    "    for s in os.listdir(base_path_abnormal):\n",
    "        age, gender = None, None\n",
    "        id_cleaned = int(''.join(filter(str.isdigit, s)))\n",
    "        if id_cleaned in abnormal_id_list:\n",
    "            _, gender, age = list(\n",
    "                abnormal_age_gender_data.loc[abnormal_age_gender_data['ID'] == id_cleaned].values.ravel())\n",
    "        embeddings.append(np.load(base_path_abnormal + s))\n",
    "        labels.append(1)\n",
    "        age_list.append(age)\n",
    "        gender_list.append(gender)\n",
    "    return np.vstack(embeddings), np.array(labels), age_list, gender_list\n",
    "\n",
    "\n",
    "def load_all_data():\n",
    "    normal_train, abnormal_train, normal_test, abnormal_test = add_age_gender_data()\n",
    "\n",
    "    X_train, labels_train, age_list_train, gender_list_train = load_all_image_embeddings(base_path_normal_train,\n",
    "                                                                                         base_path_abnormal_train,\n",
    "                                                                                         (normal_train, abnormal_train))\n",
    "    X_test, labels_test, age_list_test, gender_list_test = load_all_image_embeddings(base_path_normal_test,\n",
    "                                                                                     base_path_abnormal_test,\n",
    "                                                                                     (normal_test, abnormal_test))\n",
    "    #return X_train, labels_train, X_test, labels_test, age_list_train, age_list_test, gender_list_train, gender_list_test\n",
    "    return X_train, labels_train, X_test, labels_test\n",
    "\n",
    "def add_age_gender_data():\n",
    "    normal_train = pd.read_excel('age and gender.xlsx', sheet_name=0)\n",
    "    abnormal_train = pd.read_excel('age and gender.xlsx', sheet_name=1)\n",
    "    normal_test = pd.read_excel('age and gender.xlsx', sheet_name=2)\n",
    "    abnormal_test = pd.read_excel('age and gender.xlsx', sheet_name=3)\n",
    "    return normal_train, abnormal_train, normal_test, abnormal_test\n",
    "\n",
    "\n",
    "def add_age_gender_to_data(data, agedata, gender_data):\n",
    "    temp_array = []\n",
    "    for index, k in enumerate(data):\n",
    "        temp_k = list(k) + [agedata[index], gender_data[index]]\n",
    "        temp_array.append(temp_k)\n",
    "    return np.array(temp_array)\n",
    "\n",
    "\n",
    "def do_scaling(X_train, X_test, method='standard'):\n",
    "    if method == 'standard':\n",
    "        scaler = StandardScaler()\n",
    "        scaler.fit(X_train)\n",
    "        print(\"Scaler used :- \", str(\"Standard Scaler\"))\n",
    "        return scaler.transform(X_train), scaler.transform(X_test)\n",
    "    elif method == 'minmax':\n",
    "        scaler = MinMaxScaler()\n",
    "        scaler.fit(X_train)\n",
    "        print(\"Scaler used :- \", str(\"MinMax Scaler\"))\n",
    "        return scaler.transform(X_train), scaler.transform(X_test)\n",
    "    else:\n",
    "        return 'Not a valid method'\n",
    "\n"
   ]
  },
  {
   "cell_type": "code",
   "execution_count": 9,
   "metadata": {},
   "outputs": [],
   "source": [
    "# Confusion Matrix\n",
    "def cm_display(arr1, arr2):\n",
    "    \n",
    "    # imb_svm_df\n",
    "    cm = confusion_matrix(  arr1, arr2)\n",
    "    plt.figure(figsize = (5,5))\n",
    "    ConfusionMatrixDisplay(cm).plot(cmap = 'viridis')"
   ]
  },
  {
   "cell_type": "code",
   "execution_count": 10,
   "metadata": {},
   "outputs": [],
   "source": [
    "# Oversampling\n",
    "\n",
    "def use_oversampling_method(X_train, Y_train, method='adasyn'):\n",
    "    if method == 'smote':\n",
    "        oversample = SMOTE()\n",
    "        X_train, Y_train = oversample.fit_resample(X_train, Y_train)\n",
    "        print(\"oversampling used :- \", str(method))\n",
    "        return X_train, Y_train\n",
    "    elif method == 'randomsampler': #vulnerable to overfitting\n",
    "        random = RandomOverSampler()\n",
    "        X_train, Y_train = random.fit_resample(X_train, Y_train)\n",
    "        print(\"oversampling used :- \", str(method))\n",
    "        return X_train, Y_train\n",
    "    elif method == 'adasyn':\n",
    "        adasyn = ADASYN()\n",
    "        X_train, Y_train = adasyn.fit_resample(X_train, Y_train)\n",
    "        print(\"oversampling used :- \", str(method))\n",
    "        return X_train, Y_train\n",
    "    elif method == \"svmsmote\":\n",
    "        svmsmote = SVMSMOTE()\n",
    "        X_train, Y_train = svmsmote.fit_resample(X_train, Y_train)\n",
    "        print(\"oversampling used :- \", str(method))\n",
    "        return X_train, Y_train\n",
    "    else:\n",
    "        print('Wrong Method')\n"
   ]
  },
  {
   "cell_type": "code",
   "execution_count": 11,
   "metadata": {},
   "outputs": [],
   "source": [
    "# Dimensionality Reduction\n",
    "def do_dimensionality_reduction(X_train, X_test, Y_train, Y_test, method='kernelpca'):\n",
    "    if method == 'kernelpca':\n",
    "        earlier_dimension = X_train.shape[1]\n",
    "        kernelpca = KernelPCA()\n",
    "        kernelpca.fit(X_train)\n",
    "        X_train = kernelpca.transform(X_train)\n",
    "        X_test = kernelpca.transform(X_test)\n",
    "        print(\"Dimension Reduced from :- \", str(earlier_dimension), \" to :- \", str(X_train.shape[1]), \" Using :- \",\n",
    "              str(method))\n",
    "        return X_train, X_test, Y_train, Y_test\n",
    "    elif method == 'pca':\n",
    "        pca = PCA()\n",
    "        pca.fit(X_train)\n",
    "        earlier_dimension = X_train.shape[1]\n",
    "        X_train = pca.transform(X_train)\n",
    "        X_test = pca.transform(X_test)\n",
    "        print(\"Dimension Reduced from :- \", str(earlier_dimension), \" to :- \", str(X_train.shape[1]), \" Using :- \",\n",
    "              str(method))\n",
    "        return X_train, X_test, Y_train, Y_test\n",
    "    elif method == 'svd':\n",
    "        svd = TruncatedSVD()\n",
    "        svd.fit(X_train)\n",
    "        earlier_dimension = X_train.shape[1]\n",
    "        X_train = svd.transform(X_train)\n",
    "        X_test = svd.transform(X_test)\n",
    "        print(\"Dimension Reduced from :- \", str(earlier_dimension), \" to :- \", str(X_train.shape[1]), \" Using :- \",\n",
    "              str(method))\n",
    "        return X_train, X_test, Y_train, Y_test\n",
    "    elif method == 'tsne':\n",
    "        earlier_dimension = X_train.shape[1]\n",
    "        X = np.concatenate([X_train, X_test], axis=0)\n",
    "        Y = np.concatenate([Y_train, Y_test], axis=0)\n",
    "        X_embedded = TSNE(n_components=3, init = 'random', random_state = 0).fit_transform(X) #random_state = 42, n_components=3\n",
    "        X_train, X_test, Y_train, Y_test = train_test_split(X_embedded, Y, test_size=.1)\n",
    "        print(\"Dimension Reduced from :- \", str(earlier_dimension), \" to :- \", str(X_train.shape[1]), \" Using :- \",\n",
    "              str(method))\n",
    "        return X_train, X_test, Y_train, Y_test\n",
    "\n"
   ]
  },
  {
   "cell_type": "code",
   "execution_count": 12,
   "metadata": {},
   "outputs": [],
   "source": [
    "# Models\n",
    "def svm_model(X_train, Y_train, X_test, Y_test, params ):\n",
    "    print(f'===================== Running the SVM model  with {params}')\n",
    "#     svm_classifier = SVC(kernel=params['kernel'], gamma = params['gamma'], C = params['C'])\n",
    "    svm_classifier = SVC().set_params(**params)\n",
    "    svm_classifier.fit(X_train, Y_train)\n",
    "    pred_labels_test= svm_classifier.predict(X_test)\n",
    "    tn, fp, fn, tp = confusion_matrix(Y_test, pred_labels_test).ravel()\n",
    "    precision = tp / (tp + fp) #should be fp instead of tn\n",
    "    recall = tp / (tp + fn)\n",
    "    \n",
    "    if (precision > 0 ) and (recall > 0):\n",
    "        \n",
    "        f1 = 2 * precision * recall / (precision + recall)\n",
    "        print('----------------', f1, recall, precision, sep = '\\t')\n",
    "    else:\n",
    "        print('----',  precision, recall, sep = '\\t')\n",
    "\n",
    "    accuracy, f1score, recall, precision=calculate_all_acc_parameters(pred_labels_test, Y_test)\n",
    "    print(accuracy,f1score,recall,precision)\n",
    "    cm_display(Y_test, pred_labels_test)\n",
    "    \n",
    "    return Y_test, pred_labels_test\n",
    "\n",
    "\n",
    "def svm_model_ten_cv(data_X, data_Y,model_name='svm', folds=10):\n",
    "#     folds = 10 #temporarily reduced to 5 from 10\n",
    "    Accuracy, F1_score, Recall, Precision = [], [], [], []\n",
    "    kfold = KFold(n_splits=folds, random_state=1, shuffle=True)\n",
    "    count = 1\n",
    "    Fold_Number = []\n",
    "    '''\n",
    "    save the best params for each CV in a list\n",
    "    '''\n",
    "    best_params_list = []\n",
    "    for train_index, test_index in kfold.split(data_X):\n",
    "        print(f'===================================================   CV.{count}  ======================================')\n",
    "        X_train, X_test = data_X[train_index], data_X[test_index]\n",
    "        y_train, y_test = data_Y[train_index], data_Y[test_index]\n",
    "        print('Searching for parameters using GridSearchCV.........................')\n",
    "        best_parameters = grid_search_parameters(X_train, y_train)\n",
    "        print(f'Parameters found: {best_parameters}')\n",
    "        best_params_list.append(best_parameters)\n",
    "        svm_classifier = SVC().set_params(**best_parameters)\n",
    "        svm_classifier.fit(X_train, y_train)\n",
    "        y_test_pred = svm_classifier.predict(X_test)\n",
    "#         print(y_test_pred, y_test)\n",
    "        print(f'Size of CV test data: {len(y_test)}')\n",
    "        accuracy, f1score, recall, precision = calculate_all_acc_parameters(y_test_pred, y_test)\n",
    "        print('CV F1Score: ',f1score)\n",
    "        Accuracy.append(accuracy)\n",
    "        F1_score.append(f1score)\n",
    "        Recall.append(recall)\n",
    "        Precision.append(precision)\n",
    "        Fold_Number.append('Fold.' + str(count))\n",
    "        count = count + 1\n",
    "    print('Accuracy', np.mean(Accuracy))\n",
    "    print('F1 Score', np.mean(F1_score))\n",
    "    print('Recall', np.mean(Recall))\n",
    "    print('Precision', np.mean(Precision))\n",
    "    return [Fold_Number, Accuracy, F1_score, Recall, Precision] , best_params_list #added best parameters in the return variables\n"
   ]
  },
  {
   "cell_type": "code",
   "execution_count": 13,
   "metadata": {},
   "outputs": [],
   "source": [
    "# Because the system is currently vulberable to overfitting, let's set high values of C and low values of gamma\n",
    "# Replace C:[0.1, 1, 10, 100, 1000, .001] with C:[ 100, 1000, 10e4] \n",
    "# Replace gamma:[1, 0.1, 0.01, 0.001, 0.0001,10,100] with gamma:[0.01, 0.001, 0.10e-4]\n",
    "# gamma is useful only for rbf and sigmoid kernels, we are not going to use it for other kernels (Run 'rbf' separately)\n",
    "\n",
    "def grid_search_parameters(Data_X, Data_Y):\n",
    "\n",
    "    param_grid = {'C': [1.0, 10], # added 0.01\n",
    "                  'gamma': [1.0, 0.1 ],\n",
    "                  'kernel': ['rbf']}\n",
    "    fs = make_scorer(custom_scorer, actual_scorer = f1_score)\n",
    "    \n",
    "    grid = GridSearchCV(SVC(), param_grid, verbose=3, cv=3, scoring=fs) # temporarily reduced from 5 to 3\n",
    "    grid.fit(Data_X, Data_Y)\n",
    "    return grid.best_params_\n",
    "\n",
    "def calculate_all_acc_parameters(predicted_labels, y_true):\n",
    "    return accuracy_score(y_true, predicted_labels), f1_score(y_true, predicted_labels), \\\n",
    "recall_score(y_true, predicted_labels), \\\n",
    "precision_score(y_true, predicted_labels)\n",
    "\n",
    "\n",
    "def custom_scorer(y_true, y_pred, actual_scorer):\n",
    "    score = np.nan\n",
    "    try:\n",
    "        score = actual_scorer(y_true, y_pred)\n",
    "    except Exception: \n",
    "        pass\n",
    "\n",
    "    return score"
   ]
  },
  {
   "cell_type": "code",
   "execution_count": 14,
   "metadata": {
    "scrolled": false
   },
   "outputs": [
    {
     "name": "stdout",
     "output_type": "stream",
     "text": [
      "Data size.................................\n",
      "(982, 2048)\n",
      "(100, 2048)\n",
      "...............................................\n",
      "oversampling used :-  randomsampler\n",
      "Data size after oversampling ..................\n",
      "(1794, 2048)\n",
      "(100, 2048)\n",
      "...............................................\n",
      "Scaler used :-  Standard Scaler\n"
     ]
    },
    {
     "name": "stderr",
     "output_type": "stream",
     "text": [
      "C:\\Users\\DELL\\anaconda3\\lib\\site-packages\\sklearn\\manifold\\_t_sne.py:790: FutureWarning: The default learning rate in TSNE will change from 200.0 to 'auto' in 1.2.\n",
      "  warnings.warn(\n"
     ]
    },
    {
     "name": "stdout",
     "output_type": "stream",
     "text": [
      "Dimension Reduced from :-  2048  to :-  3  Using :-  tsne\n",
      "\n",
      "Data size after TSNE: .........................\n",
      "(1704, 3)\n",
      "(190, 3)\n",
      "...............................................\n",
      "===================== Running the SVM model  with {'C': 100000.0, 'gamma': 0.0001, 'kernel': 'rbf'}\n",
      "----------------\t0.7570621468926554\t0.6979166666666666\t0.8271604938271605\n",
      "0.7736842105263158 0.7570621468926554 0.6979166666666666 0.8271604938271605\n",
      "======================================== Starting CV SVM Model ====================================\n",
      "===================================================   CV.1  ======================================\n",
      "Searching for parameters using GridSearchCV.........................\n",
      "Fitting 3 folds for each of 4 candidates, totalling 12 fits\n",
      "[CV 1/3] END ......C=1.0, gamma=1.0, kernel=rbf;, score=0.324 total time=   0.3s\n",
      "[CV 2/3] END ......C=1.0, gamma=1.0, kernel=rbf;, score=0.374 total time=   0.2s\n",
      "[CV 3/3] END ......C=1.0, gamma=1.0, kernel=rbf;, score=0.352 total time=   0.2s\n",
      "[CV 1/3] END ......C=1.0, gamma=0.1, kernel=rbf;, score=0.974 total time=   0.2s\n",
      "[CV 2/3] END ......C=1.0, gamma=0.1, kernel=rbf;, score=0.975 total time=   0.1s\n",
      "[CV 3/3] END ......C=1.0, gamma=0.1, kernel=rbf;, score=0.938 total time=   0.1s\n",
      "[CV 1/3] END .......C=10, gamma=1.0, kernel=rbf;, score=0.324 total time=   0.2s\n",
      "[CV 2/3] END .......C=10, gamma=1.0, kernel=rbf;, score=0.374 total time=   0.2s\n",
      "[CV 3/3] END .......C=10, gamma=1.0, kernel=rbf;, score=0.352 total time=   0.2s\n",
      "[CV 1/3] END .......C=10, gamma=0.1, kernel=rbf;, score=0.976 total time=   0.1s\n",
      "[CV 2/3] END .......C=10, gamma=0.1, kernel=rbf;, score=0.977 total time=   0.2s\n",
      "[CV 3/3] END .......C=10, gamma=0.1, kernel=rbf;, score=0.939 total time=   0.2s\n",
      "Parameters found: {'C': 10, 'gamma': 0.1, 'kernel': 'rbf'}\n",
      "Size of CV test data: 171\n",
      "CV F1Score:  0.9605263157894737\n",
      "===================================================   CV.2  ======================================\n",
      "Searching for parameters using GridSearchCV.........................\n",
      "Fitting 3 folds for each of 4 candidates, totalling 12 fits\n",
      "[CV 1/3] END ......C=1.0, gamma=1.0, kernel=rbf;, score=0.323 total time=   0.3s\n",
      "[CV 2/3] END ......C=1.0, gamma=1.0, kernel=rbf;, score=0.362 total time=   0.1s\n",
      "[CV 3/3] END ......C=1.0, gamma=1.0, kernel=rbf;, score=0.364 total time=   0.2s\n",
      "[CV 1/3] END ......C=1.0, gamma=0.1, kernel=rbf;, score=0.963 total time=   0.1s\n",
      "[CV 2/3] END ......C=1.0, gamma=0.1, kernel=rbf;, score=0.966 total time=   0.1s\n",
      "[CV 3/3] END ......C=1.0, gamma=0.1, kernel=rbf;, score=0.939 total time=   0.1s\n",
      "[CV 1/3] END .......C=10, gamma=1.0, kernel=rbf;, score=0.323 total time=   0.2s\n",
      "[CV 2/3] END .......C=10, gamma=1.0, kernel=rbf;, score=0.362 total time=   0.2s\n",
      "[CV 3/3] END .......C=10, gamma=1.0, kernel=rbf;, score=0.364 total time=   0.2s\n",
      "[CV 1/3] END .......C=10, gamma=0.1, kernel=rbf;, score=0.965 total time=   0.1s\n",
      "[CV 2/3] END .......C=10, gamma=0.1, kernel=rbf;, score=0.977 total time=   0.1s\n",
      "[CV 3/3] END .......C=10, gamma=0.1, kernel=rbf;, score=0.942 total time=   0.1s\n",
      "Parameters found: {'C': 10, 'gamma': 0.1, 'kernel': 'rbf'}\n",
      "Size of CV test data: 171\n",
      "CV F1Score:  0.9944134078212291\n",
      "===================================================   CV.3  ======================================\n",
      "Searching for parameters using GridSearchCV.........................\n",
      "Fitting 3 folds for each of 4 candidates, totalling 12 fits\n",
      "[CV 1/3] END ......C=1.0, gamma=1.0, kernel=rbf;, score=0.356 total time=   0.2s\n",
      "[CV 2/3] END ......C=1.0, gamma=1.0, kernel=rbf;, score=0.393 total time=   0.1s\n",
      "[CV 3/3] END ......C=1.0, gamma=1.0, kernel=rbf;, score=0.356 total time=   0.1s\n",
      "[CV 1/3] END ......C=1.0, gamma=0.1, kernel=rbf;, score=0.958 total time=   0.1s\n",
      "[CV 2/3] END ......C=1.0, gamma=0.1, kernel=rbf;, score=0.960 total time=   0.1s\n",
      "[CV 3/3] END ......C=1.0, gamma=0.1, kernel=rbf;, score=0.921 total time=   0.1s\n",
      "[CV 1/3] END .......C=10, gamma=1.0, kernel=rbf;, score=0.356 total time=   0.1s\n",
      "[CV 2/3] END .......C=10, gamma=1.0, kernel=rbf;, score=0.393 total time=   0.1s\n",
      "[CV 3/3] END .......C=10, gamma=1.0, kernel=rbf;, score=0.356 total time=   0.1s\n",
      "[CV 1/3] END .......C=10, gamma=0.1, kernel=rbf;, score=0.965 total time=   0.1s\n",
      "[CV 2/3] END .......C=10, gamma=0.1, kernel=rbf;, score=0.962 total time=   0.1s\n",
      "[CV 3/3] END .......C=10, gamma=0.1, kernel=rbf;, score=0.926 total time=   0.1s\n",
      "Parameters found: {'C': 10, 'gamma': 0.1, 'kernel': 'rbf'}\n",
      "Size of CV test data: 171\n",
      "CV F1Score:  0.9764705882352942\n",
      "===================================================   CV.4  ======================================\n",
      "Searching for parameters using GridSearchCV.........................\n",
      "Fitting 3 folds for each of 4 candidates, totalling 12 fits\n",
      "[CV 1/3] END ......C=1.0, gamma=1.0, kernel=rbf;, score=0.330 total time=   0.2s\n",
      "[CV 2/3] END ......C=1.0, gamma=1.0, kernel=rbf;, score=0.374 total time=   0.2s\n",
      "[CV 3/3] END ......C=1.0, gamma=1.0, kernel=rbf;, score=0.340 total time=   0.1s\n",
      "[CV 1/3] END ......C=1.0, gamma=0.1, kernel=rbf;, score=0.961 total time=   0.1s\n",
      "[CV 2/3] END ......C=1.0, gamma=0.1, kernel=rbf;, score=0.971 total time=   0.1s\n",
      "[CV 3/3] END ......C=1.0, gamma=0.1, kernel=rbf;, score=0.947 total time=   0.1s\n",
      "[CV 1/3] END .......C=10, gamma=1.0, kernel=rbf;, score=0.330 total time=   0.3s\n",
      "[CV 2/3] END .......C=10, gamma=1.0, kernel=rbf;, score=0.374 total time=   0.2s\n",
      "[CV 3/3] END .......C=10, gamma=1.0, kernel=rbf;, score=0.340 total time=   0.2s\n",
      "[CV 1/3] END .......C=10, gamma=0.1, kernel=rbf;, score=0.970 total time=   0.1s\n",
      "[CV 2/3] END .......C=10, gamma=0.1, kernel=rbf;, score=0.973 total time=   0.1s\n",
      "[CV 3/3] END .......C=10, gamma=0.1, kernel=rbf;, score=0.950 total time=   0.1s\n",
      "Parameters found: {'C': 10, 'gamma': 0.1, 'kernel': 'rbf'}\n",
      "Size of CV test data: 171\n",
      "CV F1Score:  0.9668874172185431\n",
      "===================================================   CV.5  ======================================\n",
      "Searching for parameters using GridSearchCV.........................\n",
      "Fitting 3 folds for each of 4 candidates, totalling 12 fits\n",
      "[CV 1/3] END ......C=1.0, gamma=1.0, kernel=rbf;, score=0.323 total time=   0.1s\n",
      "[CV 2/3] END ......C=1.0, gamma=1.0, kernel=rbf;, score=0.384 total time=   0.2s\n",
      "[CV 3/3] END ......C=1.0, gamma=1.0, kernel=rbf;, score=0.347 total time=   0.2s\n",
      "[CV 1/3] END ......C=1.0, gamma=0.1, kernel=rbf;, score=0.970 total time=   0.1s\n",
      "[CV 2/3] END ......C=1.0, gamma=0.1, kernel=rbf;, score=0.973 total time=   0.1s\n",
      "[CV 3/3] END ......C=1.0, gamma=0.1, kernel=rbf;, score=0.941 total time=   0.1s\n",
      "[CV 1/3] END .......C=10, gamma=1.0, kernel=rbf;, score=0.323 total time=   0.1s\n",
      "[CV 2/3] END .......C=10, gamma=1.0, kernel=rbf;, score=0.384 total time=   0.1s\n",
      "[CV 3/3] END .......C=10, gamma=1.0, kernel=rbf;, score=0.347 total time=   0.1s\n",
      "[CV 1/3] END .......C=10, gamma=0.1, kernel=rbf;, score=0.970 total time=   0.1s\n",
      "[CV 2/3] END .......C=10, gamma=0.1, kernel=rbf;, score=0.977 total time=   0.1s\n",
      "[CV 3/3] END .......C=10, gamma=0.1, kernel=rbf;, score=0.946 total time=   0.1s\n",
      "Parameters found: {'C': 10, 'gamma': 0.1, 'kernel': 'rbf'}\n",
      "Size of CV test data: 170\n",
      "CV F1Score:  0.9933774834437086\n",
      "===================================================   CV.6  ======================================\n",
      "Searching for parameters using GridSearchCV.........................\n",
      "Fitting 3 folds for each of 4 candidates, totalling 12 fits\n",
      "[CV 1/3] END ......C=1.0, gamma=1.0, kernel=rbf;, score=0.365 total time=   0.1s\n",
      "[CV 2/3] END ......C=1.0, gamma=1.0, kernel=rbf;, score=0.388 total time=   0.1s\n",
      "[CV 3/3] END ......C=1.0, gamma=1.0, kernel=rbf;, score=0.365 total time=   0.2s\n",
      "[CV 1/3] END ......C=1.0, gamma=0.1, kernel=rbf;, score=0.948 total time=   0.1s\n",
      "[CV 2/3] END ......C=1.0, gamma=0.1, kernel=rbf;, score=0.958 total time=   0.1s\n",
      "[CV 3/3] END ......C=1.0, gamma=0.1, kernel=rbf;, score=0.942 total time=   0.1s\n",
      "[CV 1/3] END .......C=10, gamma=1.0, kernel=rbf;, score=0.365 total time=   0.2s\n",
      "[CV 2/3] END .......C=10, gamma=1.0, kernel=rbf;, score=0.388 total time=   0.1s\n",
      "[CV 3/3] END .......C=10, gamma=1.0, kernel=rbf;, score=0.365 total time=   0.1s\n",
      "[CV 1/3] END .......C=10, gamma=0.1, kernel=rbf;, score=0.959 total time=   0.1s\n",
      "[CV 2/3] END .......C=10, gamma=0.1, kernel=rbf;, score=0.969 total time=   0.1s\n",
      "[CV 3/3] END .......C=10, gamma=0.1, kernel=rbf;, score=0.949 total time=   0.1s\n"
     ]
    },
    {
     "name": "stdout",
     "output_type": "stream",
     "text": [
      "Parameters found: {'C': 10, 'gamma': 0.1, 'kernel': 'rbf'}\n",
      "Size of CV test data: 170\n",
      "CV F1Score:  0.9940828402366864\n",
      "===================================================   CV.7  ======================================\n",
      "Searching for parameters using GridSearchCV.........................\n",
      "Fitting 3 folds for each of 4 candidates, totalling 12 fits\n",
      "[CV 1/3] END ......C=1.0, gamma=1.0, kernel=rbf;, score=0.315 total time=   0.4s\n",
      "[CV 2/3] END ......C=1.0, gamma=1.0, kernel=rbf;, score=0.356 total time=   0.8s\n",
      "[CV 3/3] END ......C=1.0, gamma=1.0, kernel=rbf;, score=0.338 total time=   0.4s\n",
      "[CV 1/3] END ......C=1.0, gamma=0.1, kernel=rbf;, score=0.946 total time=   0.1s\n",
      "[CV 2/3] END ......C=1.0, gamma=0.1, kernel=rbf;, score=0.948 total time=   0.4s\n",
      "[CV 3/3] END ......C=1.0, gamma=0.1, kernel=rbf;, score=0.946 total time=   0.2s\n",
      "[CV 1/3] END .......C=10, gamma=1.0, kernel=rbf;, score=0.315 total time=   0.4s\n",
      "[CV 2/3] END .......C=10, gamma=1.0, kernel=rbf;, score=0.356 total time=   0.2s\n",
      "[CV 3/3] END .......C=10, gamma=1.0, kernel=rbf;, score=0.338 total time=   0.2s\n",
      "[CV 1/3] END .......C=10, gamma=0.1, kernel=rbf;, score=0.962 total time=   0.1s\n",
      "[CV 2/3] END .......C=10, gamma=0.1, kernel=rbf;, score=0.959 total time=   0.1s\n",
      "[CV 3/3] END .......C=10, gamma=0.1, kernel=rbf;, score=0.946 total time=   0.1s\n",
      "Parameters found: {'C': 10, 'gamma': 0.1, 'kernel': 'rbf'}\n",
      "Size of CV test data: 170\n",
      "CV F1Score:  0.9637305699481866\n",
      "===================================================   CV.8  ======================================\n",
      "Searching for parameters using GridSearchCV.........................\n",
      "Fitting 3 folds for each of 4 candidates, totalling 12 fits\n",
      "[CV 1/3] END ......C=1.0, gamma=1.0, kernel=rbf;, score=0.328 total time=   0.5s\n",
      "[CV 2/3] END ......C=1.0, gamma=1.0, kernel=rbf;, score=0.340 total time=   0.2s\n",
      "[CV 3/3] END ......C=1.0, gamma=1.0, kernel=rbf;, score=0.361 total time=   0.2s\n",
      "[CV 1/3] END ......C=1.0, gamma=0.1, kernel=rbf;, score=0.968 total time=   0.1s\n",
      "[CV 2/3] END ......C=1.0, gamma=0.1, kernel=rbf;, score=0.967 total time=   0.1s\n",
      "[CV 3/3] END ......C=1.0, gamma=0.1, kernel=rbf;, score=0.939 total time=   0.1s\n",
      "[CV 1/3] END .......C=10, gamma=1.0, kernel=rbf;, score=0.328 total time=   0.2s\n",
      "[CV 2/3] END .......C=10, gamma=1.0, kernel=rbf;, score=0.340 total time=   0.5s\n",
      "[CV 3/3] END .......C=10, gamma=1.0, kernel=rbf;, score=0.361 total time=   0.2s\n",
      "[CV 1/3] END .......C=10, gamma=0.1, kernel=rbf;, score=0.972 total time=   0.2s\n",
      "[CV 2/3] END .......C=10, gamma=0.1, kernel=rbf;, score=0.970 total time=   0.2s\n",
      "[CV 3/3] END .......C=10, gamma=0.1, kernel=rbf;, score=0.938 total time=   0.1s\n",
      "Parameters found: {'C': 10, 'gamma': 0.1, 'kernel': 'rbf'}\n",
      "Size of CV test data: 170\n",
      "CV F1Score:  0.9861111111111112\n",
      "===================================================   CV.9  ======================================\n",
      "Searching for parameters using GridSearchCV.........................\n",
      "Fitting 3 folds for each of 4 candidates, totalling 12 fits\n",
      "[CV 1/3] END ......C=1.0, gamma=1.0, kernel=rbf;, score=0.333 total time=   0.2s\n",
      "[CV 2/3] END ......C=1.0, gamma=1.0, kernel=rbf;, score=0.368 total time=   0.3s\n",
      "[CV 3/3] END ......C=1.0, gamma=1.0, kernel=rbf;, score=0.323 total time=   0.2s\n",
      "[CV 1/3] END ......C=1.0, gamma=0.1, kernel=rbf;, score=0.950 total time=   0.2s\n",
      "[CV 2/3] END ......C=1.0, gamma=0.1, kernel=rbf;, score=0.971 total time=   0.1s\n",
      "[CV 3/3] END ......C=1.0, gamma=0.1, kernel=rbf;, score=0.944 total time=   0.2s\n",
      "[CV 1/3] END .......C=10, gamma=1.0, kernel=rbf;, score=0.333 total time=   0.5s\n",
      "[CV 2/3] END .......C=10, gamma=1.0, kernel=rbf;, score=0.368 total time=   0.2s\n",
      "[CV 3/3] END .......C=10, gamma=1.0, kernel=rbf;, score=0.323 total time=   0.3s\n",
      "[CV 1/3] END .......C=10, gamma=0.1, kernel=rbf;, score=0.963 total time=   0.2s\n",
      "[CV 2/3] END .......C=10, gamma=0.1, kernel=rbf;, score=0.971 total time=   0.1s\n",
      "[CV 3/3] END .......C=10, gamma=0.1, kernel=rbf;, score=0.944 total time=   0.1s\n",
      "Parameters found: {'C': 10, 'gamma': 0.1, 'kernel': 'rbf'}\n",
      "Size of CV test data: 170\n",
      "CV F1Score:  0.9885057471264368\n",
      "===================================================   CV.10  ======================================\n",
      "Searching for parameters using GridSearchCV.........................\n",
      "Fitting 3 folds for each of 4 candidates, totalling 12 fits\n",
      "[CV 1/3] END ......C=1.0, gamma=1.0, kernel=rbf;, score=0.339 total time=   0.5s\n",
      "[CV 2/3] END ......C=1.0, gamma=1.0, kernel=rbf;, score=0.409 total time=   0.4s\n",
      "[CV 3/3] END ......C=1.0, gamma=1.0, kernel=rbf;, score=0.383 total time=   0.3s\n",
      "[CV 1/3] END ......C=1.0, gamma=0.1, kernel=rbf;, score=0.974 total time=   0.2s\n",
      "[CV 2/3] END ......C=1.0, gamma=0.1, kernel=rbf;, score=0.986 total time=   0.3s\n",
      "[CV 3/3] END ......C=1.0, gamma=0.1, kernel=rbf;, score=0.954 total time=   0.1s\n",
      "[CV 1/3] END .......C=10, gamma=1.0, kernel=rbf;, score=0.339 total time=   0.2s\n",
      "[CV 2/3] END .......C=10, gamma=1.0, kernel=rbf;, score=0.409 total time=   0.2s\n",
      "[CV 3/3] END .......C=10, gamma=1.0, kernel=rbf;, score=0.383 total time=   0.2s\n",
      "[CV 1/3] END .......C=10, gamma=0.1, kernel=rbf;, score=0.974 total time=   0.2s\n",
      "[CV 2/3] END .......C=10, gamma=0.1, kernel=rbf;, score=0.986 total time=   0.3s\n",
      "[CV 3/3] END .......C=10, gamma=0.1, kernel=rbf;, score=0.954 total time=   0.2s\n",
      "Parameters found: {'C': 10, 'gamma': 0.1, 'kernel': 'rbf'}\n",
      "Size of CV test data: 170\n",
      "CV F1Score:  0.9650349650349651\n",
      "Accuracy 0.9800550395596834\n",
      "F1 Score 0.9789140445965636\n",
      "Recall 0.9697408794293068\n",
      "Precision 0.988418429783261\n",
      "Parameters {'C': 10, 'gamma': 0.1, 'kernel': 'rbf'}\n",
      "===================== Running the SVM model  with {'C': 10, 'gamma': 0.1, 'kernel': 'rbf'}\n",
      "----------------\t1.0\t1.0\t1.0\n",
      "1.0 1.0 1.0 1.0\n",
      "============================\n",
      "Parameters {'C': 10, 'gamma': 0.1, 'kernel': 'rbf'}\n",
      "===================== Running the SVM model  with {'C': 10, 'gamma': 0.1, 'kernel': 'rbf'}\n",
      "----------------\t1.0\t1.0\t1.0\n",
      "1.0 1.0 1.0 1.0\n",
      "============================\n",
      "Parameters {'C': 10, 'gamma': 0.1, 'kernel': 'rbf'}\n",
      "===================== Running the SVM model  with {'C': 10, 'gamma': 0.1, 'kernel': 'rbf'}\n",
      "----------------\t1.0\t1.0\t1.0\n",
      "1.0 1.0 1.0 1.0\n",
      "============================\n",
      "Parameters {'C': 10, 'gamma': 0.1, 'kernel': 'rbf'}\n",
      "===================== Running the SVM model  with {'C': 10, 'gamma': 0.1, 'kernel': 'rbf'}\n",
      "----------------\t1.0\t1.0\t1.0\n",
      "1.0 1.0 1.0 1.0\n",
      "============================\n",
      "Parameters {'C': 10, 'gamma': 0.1, 'kernel': 'rbf'}\n",
      "===================== Running the SVM model  with {'C': 10, 'gamma': 0.1, 'kernel': 'rbf'}\n",
      "----------------\t1.0\t1.0\t1.0\n",
      "1.0 1.0 1.0 1.0\n",
      "============================\n",
      "Parameters {'C': 10, 'gamma': 0.1, 'kernel': 'rbf'}\n",
      "===================== Running the SVM model  with {'C': 10, 'gamma': 0.1, 'kernel': 'rbf'}\n",
      "----------------\t1.0\t1.0\t1.0\n",
      "1.0 1.0 1.0 1.0\n",
      "============================\n",
      "Parameters {'C': 10, 'gamma': 0.1, 'kernel': 'rbf'}\n",
      "===================== Running the SVM model  with {'C': 10, 'gamma': 0.1, 'kernel': 'rbf'}\n",
      "----------------\t1.0\t1.0\t1.0\n",
      "1.0 1.0 1.0 1.0\n",
      "============================\n",
      "Parameters {'C': 10, 'gamma': 0.1, 'kernel': 'rbf'}\n",
      "===================== Running the SVM model  with {'C': 10, 'gamma': 0.1, 'kernel': 'rbf'}\n",
      "----------------\t1.0\t1.0\t1.0\n",
      "1.0 1.0 1.0 1.0\n",
      "============================\n",
      "Parameters {'C': 10, 'gamma': 0.1, 'kernel': 'rbf'}\n",
      "===================== Running the SVM model  with {'C': 10, 'gamma': 0.1, 'kernel': 'rbf'}\n",
      "----------------\t1.0\t1.0\t1.0\n",
      "1.0 1.0 1.0 1.0\n",
      "============================\n",
      "Parameters {'C': 10, 'gamma': 0.1, 'kernel': 'rbf'}\n",
      "===================== Running the SVM model  with {'C': 10, 'gamma': 0.1, 'kernel': 'rbf'}\n",
      "----------------\t1.0\t1.0\t1.0\n",
      "1.0 1.0 1.0 1.0\n",
      "============================\n"
     ]
    },
    {
     "name": "stderr",
     "output_type": "stream",
     "text": [
      "<ipython-input-9-45ac68e6ec53>:6: RuntimeWarning: More than 20 figures have been opened. Figures created through the pyplot interface (`matplotlib.pyplot.figure`) are retained until explicitly closed and may consume too much memory. (To control this warning, see the rcParam `figure.max_open_warning`).\n",
      "  plt.figure(figsize = (5,5))\n"
     ]
    },
    {
     "data": {
      "text/plain": [
       "<Figure size 360x360 with 0 Axes>"
      ]
     },
     "metadata": {},
     "output_type": "display_data"
    },
    {
     "data": {
      "image/png": "[encoded data removed]",
      "text/plain": [
       "<Figure size 432x288 with 2 Axes>"
      ]
     },
     "metadata": {
      "needs_background": "light"
     },
     "output_type": "display_data"
    },
    {
     "data": {
      "text/plain": [
       "<Figure size 360x360 with 0 Axes>"
      ]
     },
     "metadata": {},
     "output_type": "display_data"
    },
    {
     "data": {
      "image/png": "[encoded data removed]",
      "text/plain": [
       "<Figure size 432x288 with 2 Axes>"
      ]
     },
     "metadata": {
      "needs_background": "light"
     },
     "output_type": "display_data"
    },
    {
     "data": {
      "text/plain": [
       "<Figure size 360x360 with 0 Axes>"
      ]
     },
     "metadata": {},
     "output_type": "display_data"
    },
    {
     "data": {
      "image/png": "[encoded data removed]",
      "text/plain": [
       "<Figure size 432x288 with 2 Axes>"
      ]
     },
     "metadata": {
      "needs_background": "light"
     },
     "output_type": "display_data"
    },
    {
     "data": {
      "text/plain": [
       "<Figure size 360x360 with 0 Axes>"
      ]
     },
     "metadata": {},
     "output_type": "display_data"
    },
    {
     "data": {
      "image/png": "[encoded data removed]",
      "text/plain": [
       "<Figure size 432x288 with 2 Axes>"
      ]
     },
     "metadata": {
      "needs_background": "light"
     },
     "output_type": "display_data"
    },
    {
     "data": {
      "text/plain": [
       "<Figure size 360x360 with 0 Axes>"
      ]
     },
     "metadata": {},
     "output_type": "display_data"
    },
    {
     "data": {
      "image/png": "[encoded data removed]",
      "text/plain": [
       "<Figure size 432x288 with 2 Axes>"
      ]
     },
     "metadata": {
      "needs_background": "light"
     },
     "output_type": "display_data"
    },
    {
     "data": {
      "text/plain": [
       "<Figure size 360x360 with 0 Axes>"
      ]
     },
     "metadata": {},
     "output_type": "display_data"
    },
    {
     "data": {
      "image/png": "[encoded data removed]",
      "text/plain": [
       "<Figure size 432x288 with 2 Axes>"
      ]
     },
     "metadata": {
      "needs_background": "light"
     },
     "output_type": "display_data"
    },
    {
     "data": {
      "text/plain": [
       "<Figure size 360x360 with 0 Axes>"
      ]
     },
     "metadata": {},
     "output_type": "display_data"
    },
    {
     "data": {
      "image/png": "[encoded data removed]",
      "text/plain": [
       "<Figure size 432x288 with 2 Axes>"
      ]
     },
     "metadata": {
      "needs_background": "light"
     },
     "output_type": "display_data"
    },
    {
     "data": {
      "text/plain": [
       "<Figure size 360x360 with 0 Axes>"
      ]
     },
     "metadata": {},
     "output_type": "display_data"
    },
    {
     "data": {
      "image/png": "[encoded data removed]",
      "text/plain": [
       "<Figure size 432x288 with 2 Axes>"
      ]
     },
     "metadata": {
      "needs_background": "light"
     },
     "output_type": "display_data"
    },
    {
     "data": {
      "text/plain": [
       "<Figure size 360x360 with 0 Axes>"
      ]
     },
     "metadata": {},
     "output_type": "display_data"
    },
    {
     "data": {
      "image/png": "[encoded data removed]",
      "text/plain": [
       "<Figure size 432x288 with 2 Axes>"
      ]
     },
     "metadata": {
      "needs_background": "light"
     },
     "output_type": "display_data"
    },
    {
     "data": {
      "text/plain": [
       "<Figure size 360x360 with 0 Axes>"
      ]
     },
     "metadata": {},
     "output_type": "display_data"
    },
    {
     "data": {
      "image/png": "[encoded data removed]",
      "text/plain": [
       "<Figure size 432x288 with 2 Axes>"
      ]
     },
     "metadata": {
      "needs_background": "light"
     },
     "output_type": "display_data"
    },
    {
     "data": {
      "text/plain": [
       "<Figure size 360x360 with 0 Axes>"
      ]
     },
     "metadata": {},
     "output_type": "display_data"
    },
    {
     "data": {
      "image/png": "[encoded data removed]",
      "text/plain": [
       "<Figure size 432x288 with 2 Axes>"
      ]
     },
     "metadata": {
      "needs_background": "light"
     },
     "output_type": "display_data"
    }
   ],
   "source": [
    "\n",
    "X_train, Y_train, X_test, Y_test = load_all_data()\n",
    "# X_train, Y_train, X_test, Y_test, age_list_train, age_list_test, gender_list_train, gender_list_test = load_all_data()\n",
    "\n",
    "print('Data size.................................')\n",
    "print(X_train.shape)\n",
    "print(X_test.shape)\n",
    "print('...............................................')\n",
    "\n",
    "'''\n",
    "oversampling was here. Which should go first, oversampling or dimensionality reduction?\n",
    "'''\n",
    "if use_oversampling:\n",
    "    X_train, Y_train = use_oversampling_method(X_train, Y_train, method='randomsampler')\n",
    "\n",
    "print('Data size after oversampling ..................')\n",
    "print(X_train.shape)\n",
    "print(X_test.shape)\n",
    "print('...............................................')\n",
    "\n",
    "\n",
    "if use_scaler:\n",
    "    X_train, X_test = do_scaling(X_train, X_test)\n",
    "\n",
    "if use_dimensionality_reduction:\n",
    "    X_train, X_test, Y_train, Y_test = do_dimensionality_reduction(X_train, X_test, Y_train, Y_test, method='tsne')\n",
    "\n",
    "print('\\nData size after TSNE: .........................')\n",
    "print(X_train.shape)\n",
    "print(X_test.shape)\n",
    "print('...............................................')\n",
    "\n",
    "\n",
    "\n",
    "\n",
    "\n",
    "train_array = []\n",
    "\n",
    "\n",
    "params_initial = {'C': 10e4, 'gamma': 10e-5, 'kernel': 'rbf'}\n",
    "result =svm_model(X_train, Y_train, X_test, Y_test, params_initial)\n",
    "marker = str(datetime.datetime.now()).replace(':','').replace(' ','_').replace('-','')\n",
    "pd.DataFrame(result).to_csv(f'svm_results_initial{marker}.csv', index=False)\n",
    "\n",
    "\n",
    "\n",
    "print('======================================== Starting CV SVM Model ====================================')\n",
    "\n",
    "X = X_train\n",
    "Y = Y_train\n",
    "\n",
    "performance, best_params_list  = svm_model_ten_cv(X, Y, folds=10)\n",
    "marker = str(datetime.datetime.now()).replace(':','').replace(' ','_').replace('-','').split('.')[0]\n",
    "pd.DataFrame(np.array(performance).T,\\\n",
    "             columns=['Fold_Number', 'Accuracy', 'F1_Score', 'Recall', 'Precision']).to_csv(f'CV_Results {marker}.csv', index=False)\n",
    "\n",
    "\n",
    "# marker = str(datetime.datetime.now()).replace(':','').replace(' ','_').replace('-','')\n",
    "\n",
    "for bp in best_params_list:\n",
    "    print(f'Parameters {bp}')\n",
    "    result =svm_model(X_train, Y_train, X_test, Y_test, bp)\n",
    "    marker = str(datetime.datetime.now()).replace(':','').replace(' ','_').replace('-','').split('.')[0]\n",
    "    pd.DataFrame(result).to_csv(f'svm_results_{marker}.csv', index=False)\n",
    "    print('============================')"
   ]
  },
  {
   "cell_type": "code",
   "execution_count": 22,
   "metadata": {},
   "outputs": [],
   "source": [
    "# def tsne_reduction(X_train, X_test, Y_train, Y_test, rand):\n",
    "#     earlier_dimension = X_train.shape[1]\n",
    "#     X = np.concatenate([X_train, X_test], axis=0)\n",
    "#     Y = np.concatenate([Y_train, Y_test], axis=0)\n",
    "#     X_embedded = TSNE(n_components=3, init = 'pca', random_state = rand).fit_transform(X) #random_state = 42, n_components=3\n",
    "#     X_train, X_test, Y_train, Y_test = train_test_split(X_embedded, Y, test_size=.1)\n",
    "#     print(\"Dimension Reduced from :- \", str(earlier_dimension), \" to :- \", str(X_train.shape[1]), \" Using :- \",\n",
    "#           str(method))\n",
    "#     return X_train, X_test, Y_train, Y_test\n"
   ]
  },
  {
   "cell_type": "code",
   "execution_count": 23,
   "metadata": {},
   "outputs": [],
   "source": [
    "# best_ps={'C': 10, 'gamma': 0.1, 'kernel': 'rbf'}\n"
   ]
  },
  {
   "cell_type": "code",
   "execution_count": 24,
   "metadata": {},
   "outputs": [],
   "source": [
    "# for i in range(100):\n",
    "    "
   ]
  },
  {
   "cell_type": "code",
   "execution_count": 3,
   "metadata": {},
   "outputs": [],
   "source": [
    "GridSearchCV?"
   ]
  },
  {
   "cell_type": "code",
   "execution_count": null,
   "metadata": {},
   "outputs": [],
   "source": []
  }
 ],
 "metadata": {
  "kernelspec": {
   "display_name": "Python 3",
   "language": "python",
   "name": "python3"
  },
  "language_info": {
   "codemirror_mode": {
    "name": "ipython",
    "version": 3
   },
   "file_extension": ".py",
   "mimetype": "text/x-python",
   "name": "python",
   "nbconvert_exporter": "python",
   "pygments_lexer": "ipython3",
   "version": "3.8.5"
  }
 },
 "nbformat": 4,
 "nbformat_minor": 4
}
